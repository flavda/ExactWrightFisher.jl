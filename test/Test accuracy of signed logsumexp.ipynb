{
 "cells": [
  {
   "cell_type": "code",
   "execution_count": 84,
   "metadata": {},
   "outputs": [
    {
     "name": "stderr",
     "output_type": "stream",
     "text": [
      "WARNING: using Distributions.var in module Main conflicts with an existing identifier.\n",
      "WARNING: using Distributions.dim in module Main conflicts with an existing identifier.\n"
     ]
    }
   ],
   "source": [
    "using Nemo, ExactWrightFisher, KahanSummation, Random, Distributions"
   ]
  },
  {
   "cell_type": "code",
   "execution_count": 85,
   "metadata": {},
   "outputs": [
    {
     "data": {
      "text/plain": [
       "Real Field with 256 bits of precision and error bounds"
      ]
     },
     "execution_count": 85,
     "metadata": {},
     "output_type": "execute_result"
    }
   ],
   "source": [
    "RR = RealField(256)"
   ]
  },
  {
   "cell_type": "code",
   "execution_count": 86,
   "metadata": {},
   "outputs": [
    {
     "data": {
      "text/plain": [
       "3.00000000000000000000000000000000000000000000000000000000000000000000000000000"
      ]
     },
     "execution_count": 86,
     "metadata": {},
     "output_type": "execute_result"
    }
   ],
   "source": [
    "RR(3)"
   ]
  },
  {
   "cell_type": "code",
   "execution_count": 87,
   "metadata": {},
   "outputs": [
    {
     "data": {
      "text/plain": [
       "sign (generic function with 10 methods)"
      ]
     },
     "execution_count": 87,
     "metadata": {},
     "output_type": "execute_result"
    }
   ],
   "source": [
    "import Base.sign\n",
    "\n",
    "function sign(x::arb)\n",
    "    if x < 0\n",
    "        return -1\n",
    "    else\n",
    "        return 1\n",
    "    end\n",
    "end"
   ]
  },
  {
   "cell_type": "code",
   "execution_count": 88,
   "metadata": {},
   "outputs": [
    {
     "data": {
      "text/plain": [
       "signed_logsumexp_kahan (generic function with 1 method)"
      ]
     },
     "execution_count": 88,
     "metadata": {},
     "output_type": "execute_result"
    }
   ],
   "source": [
    "function signed_logsumexp_arb(lx, signs)\n",
    "    res = sum(exp.(RR.(lx)) .* signs)\n",
    "    return sign(res), log(abs(res))\n",
    "    \n",
    "end\n",
    "function signed_logsumexp_naive(lx, signs)\n",
    "# There might potentially be a problem when the larger terms cancel each other\n",
    "  m = maximum(lx)\n",
    "  scaled_sum = sum(signs .* exp.(lx .- m))\n",
    "  if abs(scaled_sum) <= 10*eps(Float64)\n",
    "    return [1., -Inf]\n",
    "  elseif scaled_sum < 0\n",
    "    sgn = -1\n",
    "    scaled_sum = -1*scaled_sum\n",
    "  else\n",
    "    sgn = 1\n",
    "  end\n",
    "  return [sgn, m + log(scaled_sum) ]#Will give an error if the sum is negative\n",
    "end\n",
    "\n",
    "function logsumexp_kahan(X::AbstractArray{T}) where {T<:Real}\n",
    "    isempty(X) && return log(zero(T))\n",
    "    u = maximum(X)\n",
    "    isfinite(u) || return float(u)\n",
    "    let u=u # avoid https://github.com/JuliaLang/julia/issues/15276\n",
    "        u + log(sum_kbn(exp.(X .- u)))\n",
    "    end\n",
    "end\n",
    "\n",
    "function signed_logsumexp_kahan_naive(lx, signs)\n",
    "# There might potentially be a problem when the larger terms cancel each other\n",
    "  m = maximum(lx)\n",
    "  scaled_sum = sum_kbn(signs .* exp.(lx .- m))\n",
    "  if abs(scaled_sum) <= eps(Float64)\n",
    "    return [1., -Inf]\n",
    "  elseif scaled_sum < 0\n",
    "    sgn = -1\n",
    "    scaled_sum = -1*scaled_sum\n",
    "  else\n",
    "    sgn = 1\n",
    "  end\n",
    "  return [sgn, m + log(scaled_sum) ]#Will give an error if the sum is negative\n",
    "end\n",
    "\n",
    "function signed_logsumexp_kahan(lx, signs)\n",
    "  # summing the positive terms together and the negative terms together should decrease the probability of cancellation of large terms\n",
    "  # @assert length(lx) == length(signs)\n",
    "  # pos = signs .== 1\n",
    "  if all(signs .> 0)\n",
    "    return [1.0, logsumexp_kahan(lx)]\n",
    "  elseif all(signs .< 0)\n",
    "    return [-1.0, logsumexp_kahan(lx)]\n",
    "  else\n",
    "    n = length(lx)\n",
    "    @inbounds logsumexp_positive_terms = logsumexp_kahan([lx[i] for i in 1:n if signs[i] > 0])\n",
    "    @inbounds logsumexp_negative_terms = logsumexp_kahan([lx[i] for i in 1:n if signs[i] < 0])\n",
    "    if logsumexp_positive_terms > logsumexp_negative_terms\n",
    "      sgn = 1\n",
    "      res = log(1-exp(logsumexp_negative_terms - logsumexp_positive_terms)) + logsumexp_positive_terms\n",
    "    elseif logsumexp_positive_terms < logsumexp_negative_terms\n",
    "      sgn = -1\n",
    "      res = log(1-exp(logsumexp_positive_terms - logsumexp_negative_terms)) + logsumexp_negative_terms\n",
    "    else\n",
    "      sgn = 1\n",
    "      res = -Inf\n",
    "    end\n",
    "    return [sgn, res]\n",
    "  end\n",
    "end"
   ]
  },
  {
   "cell_type": "code",
   "execution_count": 89,
   "metadata": {},
   "outputs": [
    {
     "data": {
      "text/plain": [
       "[3.5229451118748631580263821001641342027628089453259875577554e-17 +/- 3.98e-76]"
      ]
     },
     "execution_count": 89,
     "metadata": {},
     "output_type": "execute_result"
    }
   ],
   "source": [
    "ExactWrightFisher.signed_logsumexp([0.2, -3., 1], [1, 1, -1])[2] - signed_logsumexp_arb([0.2, -3., 1], [1, 1, -1])[2]"
   ]
  },
  {
   "cell_type": "code",
   "execution_count": 90,
   "metadata": {},
   "outputs": [
    {
     "data": {
      "text/plain": [
       "[3.5229451118748631580263821001641342027628089453259875577554e-17 +/- 3.98e-76]"
      ]
     },
     "execution_count": 90,
     "metadata": {},
     "output_type": "execute_result"
    }
   ],
   "source": [
    "signed_logsumexp_naive([0.2, -3., 1], [1, 1, -1])[2] - signed_logsumexp_arb([0.2, -3., 1], [1, 1, -1])[2]"
   ]
  },
  {
   "cell_type": "code",
   "execution_count": 91,
   "metadata": {},
   "outputs": [
    {
     "data": {
      "text/plain": [
       "[3.5229451118748631580263821001641342027628089453259875577554e-17 +/- 3.98e-76]"
      ]
     },
     "execution_count": 91,
     "metadata": {},
     "output_type": "execute_result"
    }
   ],
   "source": [
    "signed_logsumexp_kahan_naive([0.2, -3., 1], [1, 1, -1])[2] - signed_logsumexp_arb([0.2, -3., 1], [1, 1, -1])[2]"
   ]
  },
  {
   "cell_type": "code",
   "execution_count": 92,
   "metadata": {},
   "outputs": [
    {
     "data": {
      "text/plain": [
       "[3.5229451118748631580263821001641342027628089453259875577554e-17 +/- 3.98e-76]"
      ]
     },
     "execution_count": 92,
     "metadata": {},
     "output_type": "execute_result"
    }
   ],
   "source": [
    "signed_logsumexp_kahan([0.2, -3., 1], [1, 1, -1])[2] - signed_logsumexp_arb([0.2, -3., 1], [1, 1, -1])[2]"
   ]
  },
  {
   "cell_type": "code",
   "execution_count": 93,
   "metadata": {},
   "outputs": [
    {
     "data": {
      "text/plain": [
       "S_kvec_M_plus_logsum_kahan_naive (generic function with 1 method)"
      ]
     },
     "execution_count": 93,
     "metadata": {},
     "output_type": "execute_result"
    }
   ],
   "source": [
    "ExactWrightFisher.S_kvec_M_both_logsumexp([1,3,50, 10], 0.0002, 0.075)\n",
    "function S_kvec_M_plus_logsum_test(kvec::Array{T, 1}, t::Real, θ::Real, logsumexpfun) where\n",
    "T<:Integer\n",
    "  M = length(kvec)\n",
    "\n",
    "  two_kvec_plus_1 = sum(2*kvec .+ 1)\n",
    "\n",
    "  U = typeof(t)\n",
    "\n",
    "  logterms = Array{U}(undef, two_kvec_plus_1)\n",
    "  signs = Array{Float64}(undef, two_kvec_plus_1)\n",
    "  cnt = 1\n",
    "  for m in 0:(M-1)\n",
    "    for i in 0:(2*kvec[m+1])\n",
    "    # for(int i = 0; i <= 2*kvec[m]; ++i) {\n",
    "      logterms[cnt] = ExactWrightFisher.log_bk_t_θ_t(m+i, t, θ, m);\n",
    "      signs[cnt] = ExactWrightFisher.minus_1_power_i(i);\n",
    "      cnt += 1;\n",
    "    end\n",
    "  end\n",
    "  return logsumexpfun(logterms, signs);\n",
    "end\n",
    "S_kvec_M_plus_logsum_arb(kvec::Array{T, 1}, t::Real, θ::Real) where\n",
    "T<:Integer = S_kvec_M_plus_logsum_test(kvec, t, θ, signed_logsumexp_arb)\n",
    "S_kvec_M_plus_logsum_naive(kvec::Array{T, 1}, t::Real, θ::Real) where\n",
    "T<:Integer = S_kvec_M_plus_logsum_test(kvec, t, θ, signed_logsumexp_naive)\n",
    "S_kvec_M_plus_logsum_kahan(kvec::Array{T, 1}, t::Real, θ::Real) where\n",
    "T<:Integer = S_kvec_M_plus_logsum_test(kvec, t, θ, signed_logsumexp_kahan)\n",
    "S_kvec_M_plus_logsum_kahan_naive(kvec::Array{T, 1}, t::Real, θ::Real) where\n",
    "T<:Integer = S_kvec_M_plus_logsum_test(kvec, t, θ, signed_logsumexp_kahan_naive)"
   ]
  },
  {
   "cell_type": "code",
   "execution_count": 94,
   "metadata": {},
   "outputs": [
    {
     "data": {
      "text/plain": [
       "2-element Array{Any,1}:\n",
       " 0.0                                                                                \n",
       "  [-1.181392746419046249418274994134365143118042102038545823784209e-14 +/- 2.10e-75]"
      ]
     },
     "execution_count": 94,
     "metadata": {},
     "output_type": "execute_result"
    }
   ],
   "source": [
    "ExactWrightFisher.S_kvec_M_plus_logsum([1,3,50, 10], 0.0002, 0.075)  .- S_kvec_M_plus_logsum_arb([1,3,50, 10], 0.0002, 0.075)"
   ]
  },
  {
   "cell_type": "code",
   "execution_count": 95,
   "metadata": {},
   "outputs": [
    {
     "data": {
      "text/plain": [
       "2-element Array{Any,1}:\n",
       " 0.0                                                                             \n",
       "  [6.2057041161129075856192474127353606881957897961454176215791e-16 +/- 2.10e-75]"
      ]
     },
     "execution_count": 95,
     "metadata": {},
     "output_type": "execute_result"
    }
   ],
   "source": [
    "S_kvec_M_plus_logsum_naive([1,3,50, 10], 0.0002, 0.075) .- S_kvec_M_plus_logsum_arb([1,3,50, 10], 0.0002, 0.075)"
   ]
  },
  {
   "cell_type": "code",
   "execution_count": 96,
   "metadata": {},
   "outputs": [
    {
     "data": {
      "text/plain": [
       "2-element Array{Any,1}:\n",
       " 0.0                                                                                \n",
       "  [-1.181392746419046249418274994134365143118042102038545823784209e-14 +/- 2.10e-75]"
      ]
     },
     "execution_count": 96,
     "metadata": {},
     "output_type": "execute_result"
    }
   ],
   "source": [
    "S_kvec_M_plus_logsum_kahan([1,3,50, 10], 0.0002, 0.075) .- S_kvec_M_plus_logsum_arb([1,3,50, 10], 0.0002, 0.075)"
   ]
  },
  {
   "cell_type": "code",
   "execution_count": 97,
   "metadata": {},
   "outputs": [
    {
     "data": {
      "text/plain": [
       "2-element Array{Any,1}:\n",
       " 0.0                                                                             \n",
       "  [6.2057041161129075856192474127353606881957897961454176215791e-16 +/- 2.10e-75]"
      ]
     },
     "execution_count": 97,
     "metadata": {},
     "output_type": "execute_result"
    }
   ],
   "source": [
    "S_kvec_M_plus_logsum_kahan_naive([1,3,50, 10], 0.0002, 0.075) .- S_kvec_M_plus_logsum_arb([1,3,50, 10], 0.0002, 0.075)"
   ]
  },
  {
   "cell_type": "code",
   "execution_count": 98,
   "metadata": {},
   "outputs": [
    {
     "data": {
      "text/plain": [
       "2-element Array{Any,1}:\n",
       " 0.0                                                                               \n",
       "  [4.450133000774413606158020874454439050366619305802873916556582e-14 +/- 4.04e-75]"
      ]
     },
     "execution_count": 98,
     "metadata": {},
     "output_type": "execute_result"
    }
   ],
   "source": [
    "ExactWrightFisher.S_kvec_M_plus_logsum([1,3,50, 10], 0.0002 |> BigFloat, 0.075 |> BigFloat) .- S_kvec_M_plus_logsum_arb([1,3,50, 10], 0.0002, 0.075)"
   ]
  },
  {
   "cell_type": "code",
   "execution_count": 99,
   "metadata": {},
   "outputs": [
    {
     "data": {
      "text/plain": [
       "2-element Array{Any,1}:\n",
       " 0.0                                                                                \n",
       "  [4.4501330007744136061580208744544390503666193058028739165565816e-14 +/- 7.04e-76]"
      ]
     },
     "execution_count": 99,
     "metadata": {},
     "output_type": "execute_result"
    }
   ],
   "source": [
    "S_kvec_M_plus_logsum_naive([1,3,50, 10], 0.0002 |> BigFloat, 0.075 |> BigFloat) .- S_kvec_M_plus_logsum_arb([1,3,50, 10], 0.0002, 0.075)"
   ]
  },
  {
   "cell_type": "code",
   "execution_count": 105,
   "metadata": {},
   "outputs": [
    {
     "data": {
      "text/plain": [
       "S_kvec_M_both_logsumexp_kahan (generic function with 1 method)"
      ]
     },
     "execution_count": 105,
     "metadata": {},
     "output_type": "execute_result"
    }
   ],
   "source": [
    "function S_kvec_M_both_logsumexp_kahan(kvec::Array{T, 1}, t::Real, θ::Real) where\n",
    "T<:Integer\n",
    "  logS_kvec_M_plus_res = S_kvec_M_plus_logsum_kahan(kvec, t, θ)\n",
    "  sgn_logS_kvec_M_plus_res = logS_kvec_M_plus_res[1]\n",
    "  sum_logS_kvec_M_plus_res = logS_kvec_M_plus_res[2]\n",
    "\n",
    "  log_newterms = ExactWrightFisher.S_kvec_M_minus_log_newterms(kvec, t, θ)\n",
    "  logsum_newterms =  signed_logsumexp_kahan(log_newterms, repeat([1.], length(log_newterms)))[2]\n",
    "\n",
    "  return ExactWrightFisher.S_kvec_M_both_logsumexp_inner(kvec, t, θ, logS_kvec_M_plus_res, log_newterms, logsum_newterms)\n",
    "end"
   ]
  },
  {
   "cell_type": "code",
   "execution_count": 106,
   "metadata": {},
   "outputs": [
    {
     "data": {
      "text/plain": [
       "2-element Array{Float64,1}:\n",
       " -999287.7254125979\n",
       "  855577.1585386458"
      ]
     },
     "execution_count": 106,
     "metadata": {},
     "output_type": "execute_result"
    }
   ],
   "source": [
    " ExactWrightFisher.S_kvec_M_both_logsumexp([1,3,50, 10], 0.0002, 0.075)"
   ]
  },
  {
   "cell_type": "code",
   "execution_count": 107,
   "metadata": {},
   "outputs": [
    {
     "data": {
      "text/plain": [
       "2-element Array{Float64,1}:\n",
       " -999287.7254125979\n",
       "  855577.1585386458"
      ]
     },
     "execution_count": 107,
     "metadata": {},
     "output_type": "execute_result"
    }
   ],
   "source": [
    "S_kvec_M_both_logsumexp_kahan([1,3,50, 10], 0.0002, 0.075)"
   ]
  },
  {
   "cell_type": "code",
   "execution_count": 108,
   "metadata": {},
   "outputs": [
    {
     "data": {
      "text/plain": [
       "Compute_A∞_given_U_arb_debug (generic function with 1 method)"
      ]
     },
     "execution_count": 108,
     "metadata": {},
     "output_type": "execute_result"
    }
   ],
   "source": [
    "\n",
    "function Compute_A∞_given_U_debug(θ, t, U, m, kvec; start_print_from = 32, S_kvec_M_both_logsumexp_fun = ExactWrightFisher.S_kvec_M_both_logsumexp)\n",
    "  ### 0 indexing to stick with the article's notation\n",
    "    n=0\n",
    "  while true\n",
    "#     n = n+1\n",
    "#     print(n)\n",
    "#     if (n > 100){\n",
    "#       return(m)\n",
    "# #       break()\n",
    "#     }\n",
    "        if m >= start_print_from\n",
    "            println(m)\n",
    "        end\n",
    "        kvec[m+1] = ceil(ExactWrightFisher.C_m_t_θ(m, t, θ)/2)\n",
    "        #     print(km)\n",
    "        S_kvec_M_BOTH = S_kvec_M_both_logsumexp_fun(kvec, t, θ)\n",
    "    while (S_kvec_M_BOTH[1] < U) && (S_kvec_M_BOTH[2] > U)\n",
    "        kvec = kvec .+ 1\n",
    "            #       println(kvec)\n",
    "        S_kvec_M_BOTH = S_kvec_M_both_logsumexp_fun(kvec, t, θ)\n",
    "        if m >= start_print_from\n",
    "            println(S_kvec_M_BOTH)\n",
    "        end\n",
    "    end\n",
    "    if S_kvec_M_BOTH[1] > U\n",
    "      println(\"A∞ = $m\")\n",
    "      return m\n",
    "      # break()\n",
    "    elseif (S_kvec_M_BOTH[2] < U)\n",
    "      push!(kvec,0)\n",
    "      m = m + 1\n",
    "    end\n",
    "  end\n",
    "end\n",
    "\n",
    "function Compute_A∞_given_U_arb_debug(θ, t, U, m, kvec; start_print_from = 32)\n",
    "  ### 0 indexing to stick with the article's notation\n",
    "    n=0\n",
    "  while true\n",
    "#     n = n+1\n",
    "#     print(n)\n",
    "#     if (n > 100){\n",
    "#       return(m)\n",
    "# #       break()\n",
    "#     }\n",
    "        if m >= start_print_from\n",
    "            println(m)\n",
    "        end\n",
    "        kvec[m+1] = ceil(ExactWrightFisher.C_m_t_θ(m, t, θ)/2)\n",
    "        #     print(km)\n",
    "        S_kvec_M_BOTH = ExactWrightFisher.S_kvec_M_both_logsumexp_arb(kvec, t, θ)\n",
    "    while (S_kvec_M_BOTH[1] < U) && (S_kvec_M_BOTH[2] > U)\n",
    "        kvec = kvec .+ 1\n",
    "        #       println(kvec)\n",
    "        S_kvec_M_BOTH = ExactWrightFisher.S_kvec_M_both_logsumexp_arb(kvec, t, θ)\n",
    "        if m >= start_print_from\n",
    "            println(S_kvec_M_BOTH)\n",
    "        end\n",
    "    end\n",
    "    if S_kvec_M_BOTH[1] > U\n",
    "      println(\"A∞ = $m\")\n",
    "      return m\n",
    "      # break()\n",
    "    elseif (S_kvec_M_BOTH[2] < U)\n",
    "      push!(kvec,0)\n",
    "      m = m + 1\n",
    "    end\n",
    "  end\n",
    "end"
   ]
  },
  {
   "cell_type": "code",
   "execution_count": 109,
   "metadata": {},
   "outputs": [
    {
     "data": {
      "text/plain": [
       "0.8236475079774124"
      ]
     },
     "execution_count": 109,
     "metadata": {},
     "output_type": "execute_result"
    }
   ],
   "source": [
    "Random.seed!(0);\n",
    "U = rand(Uniform())"
   ]
  },
  {
   "cell_type": "code",
   "execution_count": 110,
   "metadata": {},
   "outputs": [
    {
     "name": "stdout",
     "output_type": "stream",
     "text": [
      "35\n",
      "[-1.98681e8, 3.17618e8]\n",
      "[-5.37652e7, 1.09657e8]\n",
      "[-9.26533e6, 2.35536e7]\n",
      "[-1.05549e6, 3.28686e6]\n",
      "[-81788.0, 3.07845e5]\n",
      "[-4408.53, 19847.2]\n",
      "[-167.782, 899.304]\n",
      "[-4.0237, 29.6581]\n",
      "[0.461086, 1.23361]\n",
      "[0.552392, 0.565406]\n",
      "36\n",
      "[-7.85502e7, 1.29293e8]\n",
      "[-2.00415e7, 4.21e7]\n",
      "[-3.25421e6, 8.52315e6]\n",
      "[-3.49069e5, 1.12031e6]\n",
      "[-25452.1, 98768.8]\n",
      "[-1289.61, 5990.59]\n",
      "[-45.5994, 255.693]\n",
      "[-0.50923, 8.43057]\n",
      "[0.681288, 0.8739]\n",
      "[0.665231, 0.668277]\n",
      "37\n",
      "[-2.93485e7, 4.97617e7]\n",
      "[-7.05363e6, 1.52677e7]\n",
      "[-1.07822e6, 2.91076e6]\n",
      "[-108814.0, 3.60074e5]\n",
      "[-7459.51, 29857.9]\n",
      "[-354.53, 1702.84]\n",
      "[-11.2023, 68.8355]\n",
      "[0.493801, 2.72463]\n",
      "[0.828819, 0.873938]\n",
      "A∞ = 37\n"
     ]
    },
    {
     "data": {
      "text/plain": [
       "37"
      ]
     },
     "execution_count": 110,
     "metadata": {},
     "output_type": "execute_result"
    }
   ],
   "source": [
    "Compute_A∞_given_U_debug(sum(1:4), 0.05, U, 0, [0]; start_print_from = 35)"
   ]
  },
  {
   "cell_type": "code",
   "execution_count": 111,
   "metadata": {},
   "outputs": [
    {
     "name": "stdout",
     "output_type": "stream",
     "text": [
      "35\n",
      "[-1.98681e8, 3.17618e8]\n",
      "[-5.37652e7, 1.09657e8]\n",
      "[-9.26533e6, 2.35536e7]\n",
      "[-1.05549e6, 3.28686e6]\n",
      "[-81788.0, 3.07845e5]\n",
      "[-4408.48, 19847.3]\n",
      "[-167.782, 899.304]\n",
      "[-4.0237, 29.6581]\n",
      "[0.512486, 1.28501]\n",
      "[0.603792, 0.616807]\n",
      "36\n",
      "[-7.85502e7, 1.29293e8]\n",
      "[-2.00415e7, 4.21e7]\n",
      "[-3.25421e6, 8.52315e6]\n",
      "[-3.49069e5, 1.12031e6]\n",
      "[-25452.1, 98768.8]\n",
      "[-1289.61, 5990.59]\n",
      "[-45.5994, 255.693]\n",
      "[-0.50923, 8.43057]\n",
      "[0.681288, 0.8739]\n",
      "[0.716637, 0.719683]\n",
      "37\n",
      "[-2.93485e7, 4.97617e7]\n",
      "[-7.05363e6, 1.52677e7]\n",
      "[-1.07822e6, 2.91076e6]\n",
      "[-108814.0, 3.60074e5]\n",
      "[-7459.46, 29857.9]\n",
      "[-354.582, 1702.79]\n",
      "[-11.2023, 68.8355]\n",
      "[0.493801, 2.72463]\n",
      "[0.828819, 0.873938]\n",
      "A∞ = 37\n"
     ]
    },
    {
     "data": {
      "text/plain": [
       "37"
      ]
     },
     "execution_count": 111,
     "metadata": {},
     "output_type": "execute_result"
    }
   ],
   "source": [
    "Compute_A∞_given_U_debug(sum(1:4), 0.05, U, 0, [0]; start_print_from = 35, S_kvec_M_both_logsumexp_fun = S_kvec_M_both_logsumexp_kahan)"
   ]
  },
  {
   "cell_type": "code",
   "execution_count": 103,
   "metadata": {
    "scrolled": false
   },
   "outputs": [
    {
     "name": "stdout",
     "output_type": "stream",
     "text": [
      "35\n",
      "arb[[-198680896.946251151628310750515899244503643218755671309025196230351513739 +/- 5.81e-64], [317617718.315217425111758365367994390006956644429596731472376278002505047 +/- 6.90e-64]]\n",
      "arb[[-53765238.389839813348973146760428530244230749519917916080625630897185594 +/- 7.31e-64], [109657170.241881014131926304954049855445558491051173587818534404514663919 +/- 7.33e-64]]\n",
      "arb[[-9265327.593252635594179936881559471297163999286528789098657169825795648 +/- 8.65e-64], [23553631.984817601659307853300472156942607565416978962689977944243190421 +/- 6.97e-64]]\n",
      "arb[[-1055493.57000013286511777054911118195393692335786838622612477609145224 +/- 3.79e-63], [3286857.52489748342376955742005826767943393913743621634651547227731861 +/- 6.77e-63]]\n",
      "arb[[-81787.986003912952717137876933426191867193459482170635620347272075391 +/- 7.49e-64], [307845.203319719592303181662672180440158947672676179421873390789762318 +/- 4.38e-64]]\n",
      "arb[[-4408.50734439478223734160645589069774276166454205737596774867177173 +/- 4.82e-63], [19847.27375126723960124779517866435261620114127626688851867726463838 +/- 1.75e-63]]\n",
      "arb[[-167.798856990078103683745130633650053079776544199671397071536103326 +/- 6.53e-64], [899.287827046832685482714499442777415106075438859903537527857095969 +/- 7.35e-64]]\n",
      "arb[[-4.031778711265987644592083642481898980725743544674441457522674939 +/- 8.56e-64], [29.650043859899731772295545766270126168502673143845146878988905291 +/- 4.89e-64]]\n",
      "arb[[0.500628702079789320697797327484415451040903187095800337986066274 +/- 7.58e-64], [1.273156621969701879709004604126096581844410146839400933022869175 +/- 8.05e-64]]\n",
      "arb[[0.591763763605883364965233392423327392017591225511969925503247536 +/- 4.01e-64], [0.604778308062087327025311222236257590667468916211550913261240804 +/- 4.08e-64]]\n",
      "36\n",
      "arb[[-78550161.848771030896943349205020693473130700948610828824503715256987604 +/- 7.22e-64], [129292535.292983017128772563878083730712848943896908588443307395002301943 +/- 7.10e-64]]\n",
      "arb[[-20041500.431638456419759126825348545821579982008008880025586349505508346 +/- 6.86e-64], [42099962.054657762138842586759775614153156441478599993152668079743923549 +/- 5.49e-64]]\n",
      "arb[[-3254209.304792801475757529199749520099397008746184320817786857678356596 +/- 5.36e-64], [8523149.571496295562858009255198957981654819837739615964724696513765987 +/- 5.20e-64]]\n",
      "arb[[-349068.879696225190291394132930463744253595168239121033605852054817489 +/- 7.75e-64], [1120307.353770716559505521766889964700936900151359981064020003857995332 +/- 5.56e-64]]\n",
      "arb[[-25452.099322587034243434382489951387955645883019459113174726350634043 +/- 7.09e-64], [98768.773711530854132311181569482170980355987981863947369289125041932 +/- 7.23e-64]]\n",
      "arb[[-1289.61819299045945133179362682044481872384999156452821434218213601 +/- 6.02e-63], [5990.57987549261759043613070981339119261177413076802404034855917267 +/- 3.76e-63]]\n",
      "arb[[-45.61098444142861060161846668595624395093542224202162123122703270 +/- 2.80e-63], [255.68141241111597693530789020852143983739191625462007372671178609 +/- 3.08e-63]]\n",
      "arb[[-0.493536771492650030741384645839994949076861030519486471554594719 +/- 6.22e-64], [8.446261660441881256483688720398863058438634741090904206712213805 +/- 4.91e-64]]\n",
      "arb[[0.678650072459080945256182569410116155737868294791202473119718807 +/- 5.32e-64], [0.871262553646108274575461905030895193078537127047247332836963674 +/- 8.79e-64]]\n",
      "arb[[0.700765436829452914931527916807849564406789134816409526862509490 +/- 7.16e-64], [0.703811525074406105238229057371140147938606669065342074089225152 +/- 5.90e-64]]\n",
      "37\n",
      "arb[[-29348510.671178063850928614349419045157942857119573478712700923924308153 +/- 8.68e-64], [49761676.330153343101687334643361850109890564825431002614008543956612150 +/- 6.25e-64]]\n",
      "arb[[-7053632.496039393703931580768545893522970413747672085436283118281250224 +/- 6.59e-64], [15267745.003473602231650351094881345878227690148027160037822522857227045 +/- 4.70e-64]]\n",
      "arb[[-1078223.020266011467570189426014384208355735604508590437610633600513732 +/- 4.61e-64], [2910760.442772007559947074371909590734284464338117460774975374172676809 +/- 7.08e-64]]\n",
      "arb[[-108814.026973889024016728610225999336171155250182343873233118241056396 +/- 4.76e-64], [360073.574890208335021192101599345353515963080468431177958912106867391 +/- 8.36e-64]]\n",
      "arb[[-7459.475396507849734493129548402380697890714533878878989816373703230 +/- 6.86e-64], [29857.922946688225056959382546335106558856768253664228525664220563163 +/- 7.43e-64]]\n",
      "arb[[-354.57800705350823846231773745982525107843436444050553042698634941 +/- 3.97e-63], [1702.79502810506140718605835472843447317578882766466303242872000113 +/- 4.23e-63]]\n",
      "arb[[-11.177799594896693251661532165317122710232540654347446979139382511 +/- 6.96e-64], [68.859956090600321515974424461293477171647020035000345324252393676 +/- 5.31e-64]]\n",
      "arb[[0.51056357906891984651155895611597049871527999063438542728383128 +/- 2.13e-63], [2.74139302826781542157139500118631940567722357197417701411619820 +/- 2.01e-63]]\n",
      "arb[[0.795443274579715901270626558262483242517366879568229312811958427 +/- 5.37e-64], [0.840562401126123217769418394147164711841869326287587848619220204 +/- 7.31e-64]]\n",
      "arb[[0.800483073697934712432501341154847654912698466604693865874431922 +/- 6.91e-64], [0.801152452900162531081594410889096546354426193574312895255249586 +/- 6.35e-64]]\n",
      "38\n",
      "arb[[-10365680.69679012343165807393619461787503569801014477986868936256636419 +/- 4.52e-63], [18112780.37214277314163089506204975700875081510511752796937633175019160 +/- 5.90e-63]]\n",
      "arb[[-2344721.28554307176113466518013091042395518287541991928223980207071854 +/- 2.59e-63], [5231788.01507629555923521154235689168247282082226897232517338237024803 +/- 2.07e-63]]\n",
      "arb[[-337137.92387554489958640740659176193722702265412466651804647642554479 +/- 4.99e-63], [938484.58828998692969382242916933305091767853894224023060189913794575 +/- 1.65e-63]]\n",
      "arb[[-31984.890161456379425818980378221897893811869118548103575438353375421 +/- 6.78e-64], [109171.663565084066380854542364221537065681157884219101970298878424880 +/- 5.66e-64]]\n",
      "arb[[-2059.44732023997458963344105103180496517428294934117675678317011511 +/- 1.57e-63], [8508.45697690573683226992712473771238568013364605395698220592787453 +/- 2.55e-63]]\n",
      "arb[[-91.272060484461309468356902062666307330033204866363812876850442132 +/- 4.59e-64], [456.399661163312466426040307695111889806342691622311300223164886420 +/- 6.36e-64]]\n",
      "arb[[-2.029304770606401997119239499382090538745578896987043712283138575 +/- 6.78e-64], [17.984405563262151339266291531548191110007673773589749675525734646 +/- 6.70e-64]]\n",
      "arb[[0.819532212107341591842790213295512928191343407704189391626911628 +/- 8.75e-64], [1.343169760657283513247905022202938906124518389706755218910263699 +/- 8.81e-64]]\n",
      "arb[[0.884627217495288085441787198500778629351658353392509308246675000 +/- 6.64e-64], [0.894562338559089078249172859721619667678265793046297401809340846 +/- 5.30e-64]]\n",
      "A∞ = 38\n"
     ]
    },
    {
     "data": {
      "text/plain": [
       "38"
      ]
     },
     "execution_count": 103,
     "metadata": {},
     "output_type": "execute_result"
    }
   ],
   "source": [
    "Compute_A∞_given_U_arb_debug(sum(1:4), 0.05, U, 0, [0]; start_print_from = 35)"
   ]
  },
  {
   "cell_type": "code",
   "execution_count": null,
   "metadata": {},
   "outputs": [],
   "source": [
    "ExactWrightFisher.Compute_A∞_given_U_arb(sum(1:4), 0.001, U, 0, [0])"
   ]
  },
  {
   "cell_type": "code",
   "execution_count": null,
   "metadata": {},
   "outputs": [],
   "source": []
  }
 ],
 "metadata": {
  "@webio": {
   "lastCommId": "6b6acd47dd4d416ead72f1b4937dbb41",
   "lastKernelId": "cfaf6b15-2df2-4583-bcba-6b17c443735b"
  },
  "kernelspec": {
   "display_name": "Julia 1.0.2",
   "language": "julia",
   "name": "julia-1.0"
  },
  "language_info": {
   "file_extension": ".jl",
   "mimetype": "application/julia",
   "name": "julia",
   "version": "1.0.2"
  }
 },
 "nbformat": 4,
 "nbformat_minor": 2
}
